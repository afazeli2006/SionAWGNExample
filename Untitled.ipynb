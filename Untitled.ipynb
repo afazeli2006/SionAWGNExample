{
 "cells": [
  {
   "cell_type": "code",
   "execution_count": 8,
   "id": "0812531f-0fcc-411c-b6b6-15c57a7f40b1",
   "metadata": {},
   "outputs": [
    {
     "name": "stdout",
     "output_type": "stream",
     "text": [
      "The autoreload extension is already loaded. To reload it, use:\n",
      "  %reload_ext autoreload\n"
     ]
    }
   ],
   "source": [
    "%load_ext autoreload\n",
    "%autoreload 2\n"
   ]
  },
  {
   "cell_type": "code",
   "execution_count": 10,
   "id": "2a3d3e98-9375-4f7b-bb2d-cc033bb7157a",
   "metadata": {},
   "outputs": [
    {
     "name": "stdout",
     "output_type": "stream",
     "text": [
      "SNR=0 dB -> BER=0.08140\n",
      "SNR=5 dB -> BER=0.00540\n",
      "SNR=10 dB -> BER=0.00010\n",
      "SNR=15 dB -> BER=0.00000\n",
      "SNR=20 dB -> BER=0.00000\n"
     ]
    }
   ],
   "source": [
    "from awgn_sim import run_awgn_experiment\n",
    "\n",
    "snr_range_db = [0, 5, 10, 15, 20]\n",
    "for snr in snr_range_db:\n",
    "    ber = run_awgn_experiment(num_bits=10_000, snr_db=snr)\n",
    "    print(f\"SNR={snr} dB -> BER={ber:.5f}\")\n"
   ]
  },
  {
   "cell_type": "code",
   "execution_count": 3,
   "id": "2c65bc1c-8e9f-46dd-b965-322a63aa0335",
   "metadata": {},
   "outputs": [
    {
     "name": "stdout",
     "output_type": "stream",
     "text": [
      "None\n"
     ]
    }
   ],
   "source": [
    "import tensorflow\n",
    "print(tensorflow.__file__)\n"
   ]
  },
  {
   "cell_type": "code",
   "execution_count": 4,
   "id": "9256e023-8837-4692-8dbf-1f454a5b14ce",
   "metadata": {},
   "outputs": [
    {
     "name": "stdout",
     "output_type": "stream",
     "text": [
      "C:\\Users\\afaze\\OneDrive\\Desktop\\sionna_simple_ex\n"
     ]
    }
   ],
   "source": [
    "import os\n",
    "print(os.getcwd())"
   ]
  },
  {
   "cell_type": "code",
   "execution_count": 1,
   "id": "ce8b3614-894c-49dc-97c1-d4b99743c65b",
   "metadata": {},
   "outputs": [
    {
     "ename": "AttributeError",
     "evalue": "module 'tensorflow' has no attribute '__version__'",
     "output_type": "error",
     "traceback": [
      "\u001b[1;31m---------------------------------------------------------------------------\u001b[0m",
      "\u001b[1;31mAttributeError\u001b[0m                            Traceback (most recent call last)",
      "Cell \u001b[1;32mIn[1], line 2\u001b[0m\n\u001b[0;32m      1\u001b[0m \u001b[38;5;28;01mimport\u001b[39;00m\u001b[38;5;250m \u001b[39m\u001b[38;5;21;01mtensorflow\u001b[39;00m\u001b[38;5;250m \u001b[39m\u001b[38;5;28;01mas\u001b[39;00m\u001b[38;5;250m \u001b[39m\u001b[38;5;21;01mtf\u001b[39;00m\n\u001b[1;32m----> 2\u001b[0m \u001b[38;5;28mprint\u001b[39m(\u001b[38;5;124m\"\u001b[39m\u001b[38;5;124mTF version:\u001b[39m\u001b[38;5;124m\"\u001b[39m, \u001b[43mtf\u001b[49m\u001b[38;5;241;43m.\u001b[39;49m\u001b[43m__version__\u001b[49m)\n\u001b[0;32m      3\u001b[0m \u001b[38;5;28mprint\u001b[39m(\u001b[38;5;124m\"\u001b[39m\u001b[38;5;124mTF location:\u001b[39m\u001b[38;5;124m\"\u001b[39m, tf\u001b[38;5;241m.\u001b[39m\u001b[38;5;18m__file__\u001b[39m)\n\u001b[0;32m      4\u001b[0m \u001b[38;5;28mprint\u001b[39m(\u001b[38;5;124m\"\u001b[39m\u001b[38;5;124mKeras module:\u001b[39m\u001b[38;5;124m\"\u001b[39m, tf\u001b[38;5;241m.\u001b[39mkeras)\n",
      "\u001b[1;31mAttributeError\u001b[0m: module 'tensorflow' has no attribute '__version__'"
     ]
    }
   ],
   "source": [
    "import tensorflow as tf\n",
    "print(\"TF version:\", tf.__version__)\n",
    "print(\"TF location:\", tf.__file__)\n",
    "print(\"Keras module:\", tf.keras)\n"
   ]
  },
  {
   "cell_type": "code",
   "execution_count": 2,
   "id": "ce1c3389-e833-41a3-be6a-44fee376e7fd",
   "metadata": {},
   "outputs": [
    {
     "name": "stdout",
     "output_type": "stream",
     "text": [
      "Loaded module: <module 'tensorflow' (namespace)>\n",
      "Module type: <class 'module'>\n",
      "Module contents: ['__doc__', '__file__', '__loader__', '__name__', '__package__', '__path__', '__spec__']\n"
     ]
    }
   ],
   "source": [
    "import tensorflow\n",
    "print(\"Loaded module:\", tensorflow)\n",
    "print(\"Module type:\", type(tensorflow))\n",
    "print(\"Module contents:\", dir(tensorflow))\n"
   ]
  },
  {
   "cell_type": "code",
   "execution_count": 3,
   "id": "9319a845-9d8c-4bba-a0d4-e9cf4a5cfcd0",
   "metadata": {},
   "outputs": [
    {
     "name": "stdout",
     "output_type": "stream",
     "text": [
      "_NamespacePath(['C:\\\\Users\\\\afaze\\\\anaconda3\\\\envs\\\\neuralrx\\\\lib\\\\site-packages\\\\tensorflow'])\n"
     ]
    }
   ],
   "source": [
    "import tensorflow\n",
    "print(tensorflow.__path__)\n"
   ]
  },
  {
   "cell_type": "code",
   "execution_count": null,
   "id": "2312eb7f-194a-4491-86e2-3aff8bfc649b",
   "metadata": {},
   "outputs": [],
   "source": []
  }
 ],
 "metadata": {
  "kernelspec": {
   "display_name": "Python (neuralrx)",
   "language": "python",
   "name": "neuralrx"
  },
  "language_info": {
   "codemirror_mode": {
    "name": "ipython",
    "version": 3
   },
   "file_extension": ".py",
   "mimetype": "text/x-python",
   "name": "python",
   "nbconvert_exporter": "python",
   "pygments_lexer": "ipython3",
   "version": "3.9.21"
  }
 },
 "nbformat": 4,
 "nbformat_minor": 5
}
